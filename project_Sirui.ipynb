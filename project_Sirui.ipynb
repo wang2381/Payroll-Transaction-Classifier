{
 "cells": [
  {
   "cell_type": "markdown",
   "metadata": {},
   "source": [
    "# PAYROLL CLASSIFIER PROBLEM"
   ]
  },
  {
   "cell_type": "markdown",
   "metadata": {},
   "source": [
    "**GOAL:**\n",
    "\n",
    "**The goal of this problem is to build a classifier that has the ability to classify the payroll from the transaction records of all the users at Earnin.**\n",
    "\n",
    "\n",
    "\n",
    "\n",
    "\n",
    "\n",
    "**RECORDS/DATA:**\n",
    "\n",
    "**The transaction records contains UserId, TransactionId, Amount of each transaction, Description of each transaction, Date of each transcation, Pending status, and Categories**\n",
    "**The result is if a transaction is truely a payroll or not.**\n",
    "\n",
    "**We load the libraries.**\n"
   ]
  },
  {
   "cell_type": "code",
   "execution_count": 1,
   "metadata": {
    "collapsed": true
   },
   "outputs": [],
   "source": [
    "import pandas as pd\n",
    "import numpy as np\n",
    "import os\n",
    "import matplotlib.pyplot as plt\n",
    "import datetime\n",
    "from sklearn.linear_model import LogisticRegression\n",
    "from sklearn.model_selection import train_test_split\n",
    "import seaborn as sn\n",
    "import matplotlib.pyplot as plt\n",
    "from sklearn.metrics import confusion_matrix\n",
    "from sklearn.metrics import accuracy_score, precision_score, recall_score, f1_score\n",
    "from sklearn.metrics import precision_recall_curve\n",
    "from sklearn.metrics import roc_curve, auc\n",
    "from sklearn.model_selection import cross_val_score\n",
    "from sklearn.model_selection import GridSearchCV\n",
    "from sklearn.metrics import roc_auc_score\n",
    "import warnings\n",
    "warnings.filterwarnings(\"ignore\")"
   ]
  },
  {
   "cell_type": "markdown",
   "metadata": {},
   "source": [
    "# DATA PREPARATION AND FEATURE SELECTION\n",
    "**The UserId is named as id/userid, the TransactionId is named as transid/payid, the description of each transaction is named as desc.**  "
   ]
  },
  {
   "cell_type": "code",
   "execution_count": 2,
   "metadata": {},
   "outputs": [
    {
     "data": {
      "text/html": [
       "<div>\n",
       "<style>\n",
       "    .dataframe thead tr:only-child th {\n",
       "        text-align: right;\n",
       "    }\n",
       "\n",
       "    .dataframe thead th {\n",
       "        text-align: left;\n",
       "    }\n",
       "\n",
       "    .dataframe tbody tr th {\n",
       "        vertical-align: top;\n",
       "    }\n",
       "</style>\n",
       "<table border=\"1\" class=\"dataframe\">\n",
       "  <thead>\n",
       "    <tr style=\"text-align: right;\">\n",
       "      <th></th>\n",
       "      <th>id</th>\n",
       "      <th>transid</th>\n",
       "      <th>amount</th>\n",
       "      <th>desc</th>\n",
       "      <th>date</th>\n",
       "    </tr>\n",
       "  </thead>\n",
       "  <tbody>\n",
       "    <tr>\n",
       "      <th>0</th>\n",
       "      <td>458919</td>\n",
       "      <td>keNBRdadnXHk11E8R347H411rvXpOgCp5NQe0</td>\n",
       "      <td>3.33</td>\n",
       "      <td>TRANSFER #913536 FROM CHECKING XXX-XXX-2820</td>\n",
       "      <td>2016-12-19T00:00:00-05:00</td>\n",
       "    </tr>\n",
       "    <tr>\n",
       "      <th>1</th>\n",
       "      <td>458919</td>\n",
       "      <td>YV6B45w5RQc9778D4aOyfr77zaxd6VFnvoyX8</td>\n",
       "      <td>50.68</td>\n",
       "      <td>TRANSFER #869194 FROM CHECKING XXX-XXX-2820</td>\n",
       "      <td>2016-12-15T00:00:00-05:00</td>\n",
       "    </tr>\n",
       "    <tr>\n",
       "      <th>2</th>\n",
       "      <td>458919</td>\n",
       "      <td>EgkZXDPDaoSA55y4oM6pfXrBQ9p4PMUEEjNnX</td>\n",
       "      <td>35.00</td>\n",
       "      <td>TRANSFER #393115 FROM CHECKING XXX-XXX-2561</td>\n",
       "      <td>2016-11-23T00:00:00-05:00</td>\n",
       "    </tr>\n",
       "    <tr>\n",
       "      <th>3</th>\n",
       "      <td>458919</td>\n",
       "      <td>KXxEMykyaoTv77J3ZVpXiAKJeo4OL1tNNMzBp</td>\n",
       "      <td>10.00</td>\n",
       "      <td>TRANSFER #761283 FROM CHECKING XXX-XXX-2820</td>\n",
       "      <td>2016-10-24T00:00:00-04:00</td>\n",
       "    </tr>\n",
       "    <tr>\n",
       "      <th>4</th>\n",
       "      <td>458919</td>\n",
       "      <td>AZJ7nd6dEVip55bDZVx0SqaE1V9w6oijjROEV</td>\n",
       "      <td>36.00</td>\n",
       "      <td>TRANSFER #723271 FROM CHECKING XXX-XXX-2820</td>\n",
       "      <td>2016-10-24T00:00:00-04:00</td>\n",
       "    </tr>\n",
       "  </tbody>\n",
       "</table>\n",
       "</div>"
      ],
      "text/plain": [
       "       id                                transid  amount  \\\n",
       "0  458919  keNBRdadnXHk11E8R347H411rvXpOgCp5NQe0    3.33   \n",
       "1  458919  YV6B45w5RQc9778D4aOyfr77zaxd6VFnvoyX8   50.68   \n",
       "2  458919  EgkZXDPDaoSA55y4oM6pfXrBQ9p4PMUEEjNnX   35.00   \n",
       "3  458919  KXxEMykyaoTv77J3ZVpXiAKJeo4OL1tNNMzBp   10.00   \n",
       "4  458919  AZJ7nd6dEVip55bDZVx0SqaE1V9w6oijjROEV   36.00   \n",
       "\n",
       "                                          desc                       date  \n",
       "0  TRANSFER #913536 FROM CHECKING XXX-XXX-2820  2016-12-19T00:00:00-05:00  \n",
       "1  TRANSFER #869194 FROM CHECKING XXX-XXX-2820  2016-12-15T00:00:00-05:00  \n",
       "2  TRANSFER #393115 FROM CHECKING XXX-XXX-2561  2016-11-23T00:00:00-05:00  \n",
       "3  TRANSFER #761283 FROM CHECKING XXX-XXX-2820  2016-10-24T00:00:00-04:00  \n",
       "4  TRANSFER #723271 FROM CHECKING XXX-XXX-2820  2016-10-24T00:00:00-04:00  "
      ]
     },
     "execution_count": 2,
     "metadata": {},
     "output_type": "execute_result"
    }
   ],
   "source": [
    "Location=r'C:\\Users\\wang\\Desktop\\Assignment\\BankTransactions_credit.csv'\n",
    "df_trans = pd.read_csv(Location,header=None,low_memory=False,skiprows=1,usecols=[0,1,2,3,4],names=['id','transid','amount','desc','date'])\n",
    "df_trans.head()"
   ]
  },
  {
   "cell_type": "code",
   "execution_count": 3,
   "metadata": {},
   "outputs": [
    {
     "data": {
      "text/html": [
       "<div>\n",
       "<style>\n",
       "    .dataframe thead tr:only-child th {\n",
       "        text-align: right;\n",
       "    }\n",
       "\n",
       "    .dataframe thead th {\n",
       "        text-align: left;\n",
       "    }\n",
       "\n",
       "    .dataframe tbody tr th {\n",
       "        vertical-align: top;\n",
       "    }\n",
       "</style>\n",
       "<table border=\"1\" class=\"dataframe\">\n",
       "  <thead>\n",
       "    <tr style=\"text-align: right;\">\n",
       "      <th></th>\n",
       "      <th>userid</th>\n",
       "      <th>payid</th>\n",
       "    </tr>\n",
       "  </thead>\n",
       "  <tbody>\n",
       "    <tr>\n",
       "      <th>0</th>\n",
       "      <td>458919</td>\n",
       "      <td>NaN</td>\n",
       "    </tr>\n",
       "    <tr>\n",
       "      <th>1</th>\n",
       "      <td>458919</td>\n",
       "      <td>NaN</td>\n",
       "    </tr>\n",
       "    <tr>\n",
       "      <th>2</th>\n",
       "      <td>458919</td>\n",
       "      <td>OVPaZvjvmocnooeD83jEh6aengV1V8UeQMXZB</td>\n",
       "    </tr>\n",
       "    <tr>\n",
       "      <th>3</th>\n",
       "      <td>458919</td>\n",
       "      <td>NaN</td>\n",
       "    </tr>\n",
       "    <tr>\n",
       "      <th>4</th>\n",
       "      <td>458919</td>\n",
       "      <td>NaN</td>\n",
       "    </tr>\n",
       "  </tbody>\n",
       "</table>\n",
       "</div>"
      ],
      "text/plain": [
       "   userid                                  payid\n",
       "0  458919                                    NaN\n",
       "1  458919                                    NaN\n",
       "2  458919  OVPaZvjvmocnooeD83jEh6aengV1V8UeQMXZB\n",
       "3  458919                                    NaN\n",
       "4  458919                                    NaN"
      ]
     },
     "execution_count": 3,
     "metadata": {},
     "output_type": "execute_result"
    }
   ],
   "source": [
    "Location1=r'C:\\Users\\wang\\Desktop\\Assignment\\UserPayrollTracking.csv'\n",
    "df_pay = pd.read_csv(Location1,header=None,low_memory=False,skiprows=1,usecols=[0,4],names=['userid','payid'])\n",
    "df_pay.head()"
   ]
  },
  {
   "cell_type": "markdown",
   "metadata": {},
   "source": [
    "**In order to conduct the correct join of two tables, we need to clean the data. **\n",
    "\n",
    "**We remove the duplicated rows with the same transid.**\n",
    "\n",
    "**Then, we join the two tables to form a concrete table.**"
   ]
  },
  {
   "cell_type": "code",
   "execution_count": 4,
   "metadata": {
    "collapsed": true
   },
   "outputs": [],
   "source": [
    "df_trans=df_trans.drop_duplicates(['transid'])\n",
    "df_pay=df_pay.drop_duplicates(['payid'])\n"
   ]
  },
  {
   "cell_type": "code",
   "execution_count": 5,
   "metadata": {},
   "outputs": [
    {
     "data": {
      "text/plain": [
       "1192377"
      ]
     },
     "execution_count": 5,
     "metadata": {},
     "output_type": "execute_result"
    }
   ],
   "source": [
    "df=pd.merge(df_trans, df_pay, how='left', left_on=['transid'], right_on=['payid'])\n",
    "len(df)"
   ]
  },
  {
   "cell_type": "code",
   "execution_count": 6,
   "metadata": {},
   "outputs": [
    {
     "data": {
      "text/html": [
       "<div>\n",
       "<style>\n",
       "    .dataframe thead tr:only-child th {\n",
       "        text-align: right;\n",
       "    }\n",
       "\n",
       "    .dataframe thead th {\n",
       "        text-align: left;\n",
       "    }\n",
       "\n",
       "    .dataframe tbody tr th {\n",
       "        vertical-align: top;\n",
       "    }\n",
       "</style>\n",
       "<table border=\"1\" class=\"dataframe\">\n",
       "  <thead>\n",
       "    <tr style=\"text-align: right;\">\n",
       "      <th></th>\n",
       "      <th>id</th>\n",
       "      <th>transid</th>\n",
       "      <th>amount</th>\n",
       "      <th>desc</th>\n",
       "      <th>date</th>\n",
       "      <th>userid</th>\n",
       "      <th>payid</th>\n",
       "    </tr>\n",
       "  </thead>\n",
       "  <tbody>\n",
       "    <tr>\n",
       "      <th>0</th>\n",
       "      <td>458919</td>\n",
       "      <td>keNBRdadnXHk11E8R347H411rvXpOgCp5NQe0</td>\n",
       "      <td>3.33</td>\n",
       "      <td>TRANSFER #913536 FROM CHECKING XXX-XXX-2820</td>\n",
       "      <td>2016-12-19T00:00:00-05:00</td>\n",
       "      <td>NaN</td>\n",
       "      <td>NaN</td>\n",
       "    </tr>\n",
       "    <tr>\n",
       "      <th>1</th>\n",
       "      <td>458919</td>\n",
       "      <td>YV6B45w5RQc9778D4aOyfr77zaxd6VFnvoyX8</td>\n",
       "      <td>50.68</td>\n",
       "      <td>TRANSFER #869194 FROM CHECKING XXX-XXX-2820</td>\n",
       "      <td>2016-12-15T00:00:00-05:00</td>\n",
       "      <td>NaN</td>\n",
       "      <td>NaN</td>\n",
       "    </tr>\n",
       "    <tr>\n",
       "      <th>2</th>\n",
       "      <td>458919</td>\n",
       "      <td>EgkZXDPDaoSA55y4oM6pfXrBQ9p4PMUEEjNnX</td>\n",
       "      <td>35.00</td>\n",
       "      <td>TRANSFER #393115 FROM CHECKING XXX-XXX-2561</td>\n",
       "      <td>2016-11-23T00:00:00-05:00</td>\n",
       "      <td>NaN</td>\n",
       "      <td>NaN</td>\n",
       "    </tr>\n",
       "    <tr>\n",
       "      <th>3</th>\n",
       "      <td>458919</td>\n",
       "      <td>KXxEMykyaoTv77J3ZVpXiAKJeo4OL1tNNMzBp</td>\n",
       "      <td>10.00</td>\n",
       "      <td>TRANSFER #761283 FROM CHECKING XXX-XXX-2820</td>\n",
       "      <td>2016-10-24T00:00:00-04:00</td>\n",
       "      <td>NaN</td>\n",
       "      <td>NaN</td>\n",
       "    </tr>\n",
       "    <tr>\n",
       "      <th>4</th>\n",
       "      <td>458919</td>\n",
       "      <td>AZJ7nd6dEVip55bDZVx0SqaE1V9w6oijjROEV</td>\n",
       "      <td>36.00</td>\n",
       "      <td>TRANSFER #723271 FROM CHECKING XXX-XXX-2820</td>\n",
       "      <td>2016-10-24T00:00:00-04:00</td>\n",
       "      <td>NaN</td>\n",
       "      <td>NaN</td>\n",
       "    </tr>\n",
       "  </tbody>\n",
       "</table>\n",
       "</div>"
      ],
      "text/plain": [
       "       id                                transid  amount  \\\n",
       "0  458919  keNBRdadnXHk11E8R347H411rvXpOgCp5NQe0    3.33   \n",
       "1  458919  YV6B45w5RQc9778D4aOyfr77zaxd6VFnvoyX8   50.68   \n",
       "2  458919  EgkZXDPDaoSA55y4oM6pfXrBQ9p4PMUEEjNnX   35.00   \n",
       "3  458919  KXxEMykyaoTv77J3ZVpXiAKJeo4OL1tNNMzBp   10.00   \n",
       "4  458919  AZJ7nd6dEVip55bDZVx0SqaE1V9w6oijjROEV   36.00   \n",
       "\n",
       "                                          desc                       date  \\\n",
       "0  TRANSFER #913536 FROM CHECKING XXX-XXX-2820  2016-12-19T00:00:00-05:00   \n",
       "1  TRANSFER #869194 FROM CHECKING XXX-XXX-2820  2016-12-15T00:00:00-05:00   \n",
       "2  TRANSFER #393115 FROM CHECKING XXX-XXX-2561  2016-11-23T00:00:00-05:00   \n",
       "3  TRANSFER #761283 FROM CHECKING XXX-XXX-2820  2016-10-24T00:00:00-04:00   \n",
       "4  TRANSFER #723271 FROM CHECKING XXX-XXX-2820  2016-10-24T00:00:00-04:00   \n",
       "\n",
       "   userid payid  \n",
       "0     NaN   NaN  \n",
       "1     NaN   NaN  \n",
       "2     NaN   NaN  \n",
       "3     NaN   NaN  \n",
       "4     NaN   NaN  "
      ]
     },
     "execution_count": 6,
     "metadata": {},
     "output_type": "execute_result"
    }
   ],
   "source": [
    "df.head()"
   ]
  },
  {
   "cell_type": "markdown",
   "metadata": {},
   "source": [
    "** We remove the rows where the description portions are blank** "
   ]
  },
  {
   "cell_type": "code",
   "execution_count": 7,
   "metadata": {
    "collapsed": true
   },
   "outputs": [],
   "source": [
    "df['payid'][pd.isnull(df['payid'])]=0\n",
    "df['payid'][df['payid']!=0]=1\n",
    "del df['transid']\n",
    "del df['userid']"
   ]
  },
  {
   "cell_type": "code",
   "execution_count": 8,
   "metadata": {
    "collapsed": true
   },
   "outputs": [],
   "source": [
    "df=df[pd.isnull(df['desc'])==0]"
   ]
  },
  {
   "cell_type": "code",
   "execution_count": 9,
   "metadata": {},
   "outputs": [
    {
     "data": {
      "text/html": [
       "<div>\n",
       "<style>\n",
       "    .dataframe thead tr:only-child th {\n",
       "        text-align: right;\n",
       "    }\n",
       "\n",
       "    .dataframe thead th {\n",
       "        text-align: left;\n",
       "    }\n",
       "\n",
       "    .dataframe tbody tr th {\n",
       "        vertical-align: top;\n",
       "    }\n",
       "</style>\n",
       "<table border=\"1\" class=\"dataframe\">\n",
       "  <thead>\n",
       "    <tr style=\"text-align: right;\">\n",
       "      <th></th>\n",
       "      <th>id</th>\n",
       "      <th>amount</th>\n",
       "      <th>desc</th>\n",
       "      <th>date</th>\n",
       "      <th>payid</th>\n",
       "    </tr>\n",
       "  </thead>\n",
       "  <tbody>\n",
       "    <tr>\n",
       "      <th>0</th>\n",
       "      <td>458919</td>\n",
       "      <td>3.33</td>\n",
       "      <td>TRANSFER #913536 FROM CHECKING XXX-XXX-2820</td>\n",
       "      <td>2016-12-19T00:00:00-05:00</td>\n",
       "      <td>0</td>\n",
       "    </tr>\n",
       "    <tr>\n",
       "      <th>1</th>\n",
       "      <td>458919</td>\n",
       "      <td>50.68</td>\n",
       "      <td>TRANSFER #869194 FROM CHECKING XXX-XXX-2820</td>\n",
       "      <td>2016-12-15T00:00:00-05:00</td>\n",
       "      <td>0</td>\n",
       "    </tr>\n",
       "    <tr>\n",
       "      <th>2</th>\n",
       "      <td>458919</td>\n",
       "      <td>35.00</td>\n",
       "      <td>TRANSFER #393115 FROM CHECKING XXX-XXX-2561</td>\n",
       "      <td>2016-11-23T00:00:00-05:00</td>\n",
       "      <td>0</td>\n",
       "    </tr>\n",
       "    <tr>\n",
       "      <th>3</th>\n",
       "      <td>458919</td>\n",
       "      <td>10.00</td>\n",
       "      <td>TRANSFER #761283 FROM CHECKING XXX-XXX-2820</td>\n",
       "      <td>2016-10-24T00:00:00-04:00</td>\n",
       "      <td>0</td>\n",
       "    </tr>\n",
       "    <tr>\n",
       "      <th>4</th>\n",
       "      <td>458919</td>\n",
       "      <td>36.00</td>\n",
       "      <td>TRANSFER #723271 FROM CHECKING XXX-XXX-2820</td>\n",
       "      <td>2016-10-24T00:00:00-04:00</td>\n",
       "      <td>0</td>\n",
       "    </tr>\n",
       "  </tbody>\n",
       "</table>\n",
       "</div>"
      ],
      "text/plain": [
       "       id  amount                                         desc  \\\n",
       "0  458919    3.33  TRANSFER #913536 FROM CHECKING XXX-XXX-2820   \n",
       "1  458919   50.68  TRANSFER #869194 FROM CHECKING XXX-XXX-2820   \n",
       "2  458919   35.00  TRANSFER #393115 FROM CHECKING XXX-XXX-2561   \n",
       "3  458919   10.00  TRANSFER #761283 FROM CHECKING XXX-XXX-2820   \n",
       "4  458919   36.00  TRANSFER #723271 FROM CHECKING XXX-XXX-2820   \n",
       "\n",
       "                        date payid  \n",
       "0  2016-12-19T00:00:00-05:00     0  \n",
       "1  2016-12-15T00:00:00-05:00     0  \n",
       "2  2016-11-23T00:00:00-05:00     0  \n",
       "3  2016-10-24T00:00:00-04:00     0  \n",
       "4  2016-10-24T00:00:00-04:00     0  "
      ]
     },
     "execution_count": 9,
     "metadata": {},
     "output_type": "execute_result"
    }
   ],
   "source": [
    "df.head()\n"
   ]
  },
  {
   "cell_type": "markdown",
   "metadata": {
    "collapsed": true
   },
   "source": [
    "** We separate the whole table into two tables according to whether the transaction is a payroll or not.**"
   ]
  },
  {
   "cell_type": "code",
   "execution_count": 10,
   "metadata": {
    "collapsed": true
   },
   "outputs": [],
   "source": [
    "df_1=df[df['payid']==1]\n",
    "df_0=df[df['payid']==0]"
   ]
  },
  {
   "cell_type": "markdown",
   "metadata": {},
   "source": [
    "**In order to build an accurate classifier, it is pivotal to select the usefull features based on the cleaned data. **\n",
    "\n",
    "**We want to know the characteristics of the potential features based on data visualization.**\n",
    "\n",
    "**We first want to know what the proportion is for a true payroll within all the bank transactions.**\n",
    "\n",
    "**We find the actual number of payroll is around 36000 out of 1200000 transactions.**"
   ]
  },
  {
   "cell_type": "code",
   "execution_count": 11,
   "metadata": {},
   "outputs": [
    {
     "data": {
      "image/png": "[encoded data removed]",
      "text/plain": [
       "<matplotlib.figure.Figure at 0x2448de3c3c8>"
      ]
     },
     "metadata": {},
     "output_type": "display_data"
    }
   ],
   "source": [
    "plt.bar([1,2], [len(df_1),len(df_0)],width=0.5,color=['r','g'])\n",
    "plt.xticks([1,2],['yes','no'],fontsize=20)\n",
    "plt.yticks(fontsize=10)\n",
    "plt.ylabel('count',fontsize=20)\n",
    "plt.title('Is payroll or not',fontsize=30,color='k')\n",
    "plt.show()"
   ]
  },
  {
   "cell_type": "markdown",
   "metadata": {},
   "source": [
    "**Intuitively, the classifier should be heavily based on the description of each transaction. The descriptions for true payrolls should have common characteristics among all the transactions, such as \"direct deposit\", \"ACH\", and so on.**\n",
    "\n",
    "**We thus count the frequency of each key word appearred in each payroll and sort them by frequency.**"
   ]
  },
  {
   "cell_type": "code",
   "execution_count": 12,
   "metadata": {
    "collapsed": true
   },
   "outputs": [],
   "source": [
    "\n",
    "dic={}\n",
    "for i in range(len(df_1)):\n",
    "    for j in df_1.iloc[i]['desc'].lower().split():\n",
    "        if j not in dic:\n",
    "            dic[j]=1\n",
    "        else:\n",
    "            dic[j]+=1\n",
    "            "
   ]
  },
  {
   "cell_type": "markdown",
   "metadata": {},
   "source": [
    "**We are not surprised to find that the most frequent key words are \"dep\", \"payroll\",\"ach\",deposit\",\"dep\",direct\",\"dir\",etc.**"
   ]
  },
  {
   "cell_type": "code",
   "execution_count": 13,
   "metadata": {},
   "outputs": [
    {
     "data": {
      "text/plain": [
       "[('co', 13017),\n",
       " ('orig', 11036),\n",
       " ('dep', 10329),\n",
       " ('payroll', 9574),\n",
       " ('direct', 6344),\n",
       " ('entry', 5596),\n",
       " ('ach', 5391),\n",
       " ('sec:ppd', 5047),\n",
       " ('deposit', 4960),\n",
       " ('credit', 4355),\n",
       " ('on', 3187),\n",
       " ('ppd', 3025),\n",
       " ('id:', 2536),\n",
       " ('descr:payroll', 2066),\n",
       " ('dir', 1801),\n",
       " ('-', 1790),\n",
       " ('m', 1716),\n",
       " ('descr:direct', 1617),\n",
       " ('sears', 1567),\n",
       " ('holdings', 1548)]"
      ]
     },
     "execution_count": 13,
     "metadata": {},
     "output_type": "execute_result"
    }
   ],
   "source": [
    "sorted(dic.items(),key=lambda x: x[1],reverse=True)[:20]"
   ]
  },
  {
   "cell_type": "markdown",
   "metadata": {
    "collapsed": true
   },
   "source": [
    "**Now we have a brief idea about the frequency of the key words within the description of each payroll.**\n",
    "\n",
    "**We want to know the frequency of those keywords in the non-payroll transactions to get a better idea on whether we should apply those key words as a criteria.**"
   ]
  },
  {
   "cell_type": "markdown",
   "metadata": {},
   "source": [
    "**We find that the the ratio of \"dep\" occurred in non-payroll and payroll is 0.2 and 0.42, the difference is not significant;**\n",
    "\n",
    "**The ratio of \"dir\" occurred in non-payroll and payroll is 0.31 and 0.13, the difference is also not significant;**\n",
    "\n",
    "**However, the ratio of \"dir\" and \"dep\" both occurred in non-payroll and payroll is 0.3 and 0.05, the difference is significant;**\n",
    "\n",
    "**The ratio of \"payroll\" occurred in non-payroll and payroll is 0.34 and 0.05, the difference is significant;**\n",
    "\n",
    "**The ratio of \"ach\" occurred in non-payroll and payroll is 0.15 and 0.03, the difference is significant;**\n",
    "\n",
    "**The ratio of \"ppd\" occurred in non-payroll and payroll is 0.22 and 0.07, the difference is significant;**\n",
    "\n",
    "**We can also get a better idea on this by looking at the bar plot.**"
   ]
  },
  {
   "cell_type": "code",
   "execution_count": 14,
   "metadata": {},
   "outputs": [
    {
     "data": {
      "text/plain": [
       "[0.4270713068338006,\n",
       " 0.309802627961955,\n",
       " 0.3037275276265875,\n",
       " 0.338776183407554,\n",
       " 0.15270218263785804,\n",
       " 0.2243388861399747,\n",
       " 0.20462945978964708,\n",
       " 0.13299249332913413,\n",
       " 0.05126443623828921,\n",
       " 0.0596190252056634,\n",
       " 0.03346248221967654,\n",
       " 0.07441519607673486]"
      ]
     },
     "execution_count": 14,
     "metadata": {},
     "output_type": "execute_result"
    }
   ],
   "source": [
    "c_dep_1=len(df_1[df_1['desc'].str.lower().str.match(r'.*dep.*')==True])/len(df_1)\n",
    "c_dir_1=len(df_1[df_1['desc'].str.lower().str.match(r'.*dir.*')==True])/len(df_1)\n",
    "c_dep_dir_1=len(df_1[df_1['desc'].str.lower().str.match(r'(.*dir.*dep.*)|(.*dep.*dir.*)')==True])/len(df_1)\n",
    "c_payroll_1=len(df_1[df_1['desc'].str.lower().str.match(r'.*payroll.*')==True])/len(df_1)\n",
    "c_ach_1=len(df_1[df_1['desc'].str.lower().str.match(r'.*ach.*')==True])/len(df_1)\n",
    "c_ppd_1=len(df_1[df_1['desc'].str.lower().str.match(r'.*ppd.*')==True])/len(df_1)\n",
    "\n",
    "\n",
    "c_dep_0=len(df_0[df_0['desc'].str.lower().str.match(r'.*dep.*')==True])/len(df_0)\n",
    "c_dir_0=len(df_0[df_0['desc'].str.lower().str.match(r'.*dir.*')==True])/len(df_0)\n",
    "c_dep_dir_0=len(df_0[df_0['desc'].str.lower().str.match(r'(.*dir.*dep.*)|(.*dep.*dir.*)')==True])/len(df_0)\n",
    "c_payroll_0=len(df_0[df_0['desc'].str.lower().str.match(r'.*payroll.*')==True])/len(df_0)\n",
    "c_ach_0=len(df_0[df_0['desc'].str.lower().str.match(r'.*ach.*')==True])/len(df_0)\n",
    "c_ppd_0=len(df_0[df_0['desc'].str.lower().str.match(r'.*ppd.*')==True])/len(df_0)\n",
    "\n",
    "lst=[c_dep_1,c_dir_1,c_dep_dir_1,c_payroll_1,c_ach_1,c_ppd_1,c_dep_0,c_dir_0,c_dep_dir_0,c_payroll_0,c_ach_0,c_ppd_0]\n",
    "lst"
   ]
  },
  {
   "cell_type": "code",
   "execution_count": 15,
   "metadata": {},
   "outputs": [
    {
     "data": {
      "image/png": "[encoded data removed]",
      "text/plain": [
       "<matplotlib.figure.Figure at 0x2448d265518>"
      ]
     },
     "metadata": {},
     "output_type": "display_data"
    }
   ],
   "source": [
    "bar_width = 0.5\n",
    "a=np.array([1,3,5,7,9,11])\n",
    "b=a+bar_width\n",
    "plt.bar(a, [lst[0],lst[1],lst[2],lst[3],lst[4],lst[5]],width=0.5,color='r')\n",
    "plt.bar(b,[lst[6],lst[7],lst[8],lst[9],lst[10],lst[11]] ,width=0.5,color='g')\n",
    "plt.xticks(b,['dep','dir','dir & dep','payroll','ach','ppd'],fontsize=10)\n",
    "plt.xlabel('Contains',fontsize=15)\n",
    "plt.yticks(fontsize=10)\n",
    "plt.ylabel('percentenge in group (0/1)',fontsize=15)\n",
    "plt.title('percentenge of keywords in group (0/1)',fontsize=20,color='k')\n",
    "plt.legend(['group1','group0'],edgecolor='w')\n",
    "plt.show()"
   ]
  },
  {
   "cell_type": "markdown",
   "metadata": {},
   "source": [
    "**Therefore, it will be reasonable to treat the keyweods \"dir, dep\"(both), \"payroll\",\"ach\",and \"ppd\" as selected features to help classify the true payroll among all the bank transactions.**\n",
    "\n",
    "**Next, we take a look at other potential features.**\n",
    "\n",
    "**We will not select Pending Status and Categories as features as they contain little information and may be incomplete and inaccurate as mentioned.**\n",
    "\n",
    "**The only two potential features left are :**\n",
    "\n",
    "**1. amount;**\n",
    "\n",
    "**2. date.**\n",
    "\n",
    "**We first look at the amount.**\n",
    "\n",
    "**There are two ways to treat amount as features:**"
   ]
  },
  {
   "cell_type": "markdown",
   "metadata": {},
   "source": [
    "**1. Treat \"amount\" as continuous variable;**\n",
    "\n",
    "**2. Treat \"amount\" as categorical variable.**\n",
    "\n",
    "**We plot the histograms of amount within the true payroll group (group1):**\n",
    "\n",
    "**It is clear that amount can be assumed as a normal distribution and the average is around 500.The data are not highly skewed, so we do not need to perform transformation (log) on the data.**"
   ]
  },
  {
   "cell_type": "code",
   "execution_count": 248,
   "metadata": {},
   "outputs": [
    {
     "data": {
      "image/png": "[encoded data removed]",
      "text/plain": [
       "<matplotlib.figure.Figure at 0x1bc80c3dcf8>"
      ]
     },
     "metadata": {},
     "output_type": "display_data"
    }
   ],
   "source": [
    "plt.subplot(1,2,1)\n",
    "plt.hist(list(df_1['amount']), bins=5000,fc='b')\n",
    "plt.xlim(0,5000)\n",
    "plt.subplot(1,2,2)\n",
    "plt.hist(list(df_1['amount']), bins=5000,fc='b')\n",
    "plt.xlim(0,1000)\n",
    "plt.show()"
   ]
  },
  {
   "cell_type": "markdown",
   "metadata": {},
   "source": [
    "**We do not plot the histogram of amount within the non-payroll group (group0) due to the huge data size. Yet we count the frequency of the amount which is less than 150 within both groups.**\n",
    "\n",
    "**We find that in true payroll group (group1), there are only less than 6% transactions that are below 150;**\n",
    "\n",
    "**However, in non-payroll group (group0), the ratio is much higher (over 70%).**\n",
    "\n",
    "**We plot the histograms below. Thus, we can treat amount as a categorical variable and set amount > 150 as 1, and < 150 as 0.**"
   ]
  },
  {
   "cell_type": "code",
   "execution_count": 16,
   "metadata": {},
   "outputs": [
    {
     "data": {
      "text/plain": [
       "[0.722877868645373, 0.05434603331683985]"
      ]
     },
     "execution_count": 16,
     "metadata": {},
     "output_type": "execute_result"
    }
   ],
   "source": [
    "r0=len(df_0[df_0['amount']<150])/len(df_0)\n",
    "r1=len(df_1[df_1['amount']<150])/len(df_1)\n",
    "l=[r0,r1]\n",
    "l"
   ]
  },
  {
   "cell_type": "code",
   "execution_count": 17,
   "metadata": {},
   "outputs": [
    {
     "data": {
      "image/png": "[encoded data removed]",
      "text/plain": [
       "<matplotlib.figure.Figure at 0x2448de3c2e8>"
      ]
     },
     "metadata": {},
     "output_type": "display_data"
    }
   ],
   "source": [
    "plt.bar([1,2], [r0,r1],width=0.5,color=['r','g'])\n",
    "plt.xticks([1,2],['group0','group1'],fontsize=20)\n",
    "plt.yticks(fontsize=10)\n",
    "plt.ylabel('ratio of amount<$150',fontsize=20)\n",
    "plt.title('ratio of amount< $150 in two groups',fontsize=20,color='k')\n",
    "plt.show()"
   ]
  },
  {
   "cell_type": "markdown",
   "metadata": {},
   "source": [
    "** The last potential feature is date.**\n",
    "\n",
    "**Intuitively, it might be true that different companies or employers might have their different payroll dates.**\n",
    "\n",
    "**Here, we are not going to build tons of classifiers based on the individual user or his or her employer.** \n",
    "\n",
    "**In other words, because the goal of this study is to build a classifier that can be suitable for a new user. We do not want to build thousands of individual classfiers and use a lookup table to find the exact employer given an employee's name and decide which classifier we should use for that particular company or employer.**  \n",
    "\n",
    "**Therefore, date variable might contain less information if we were to build a classifier based on all different users. However, it can be still worthy to try and see if there is any different date pattern between true payroll and non-payroll.** "
   ]
  },
  {
   "cell_type": "code",
   "execution_count": 18,
   "metadata": {
    "collapsed": true
   },
   "outputs": [],
   "source": [
    "import datetime\n",
    "\n",
    "df_1['date'].replace(r'(.*)T.*',r'\\1',regex=True,inplace=True)\n",
    "l1=[]\n",
    "df_weekday={}\n",
    "for i in range(len(df_1)):\n",
    "    s=datetime.datetime.strptime(df_1.iloc[i]['date'], '%Y-%m-%d').strftime('%u')\n",
    "    if s not in df_weekday:\n",
    "        df_weekday[s]=1\n",
    "    else:\n",
    "        df_weekday[s]+=1\n",
    "    l1.append(s)\n",
    "    \n",
    "    \n",
    "df_0['date'].replace(r'(.*)T.*',r'\\1',regex=True,inplace=True)\n",
    "l0=[]\n",
    "df_weekday_0={}\n",
    "for i in range(len(df_0)):\n",
    "    s=datetime.datetime.strptime(df_0.iloc[i]['date'], '%Y-%m-%d').strftime('%u')\n",
    "    if s not in df_weekday_0:\n",
    "        df_weekday_0[s]=1\n",
    "    else:\n",
    "        df_weekday_0[s]+=1\n",
    "    l0.append(s)\n",
    "   "
   ]
  },
  {
   "cell_type": "markdown",
   "metadata": {},
   "source": [
    "**Interestingly, from the plot below, we can find that most payrolls occurred on Friday, despite of different companies or employers.**\n",
    "\n",
    "**On the contrary, there is no obvious date pattern for non-payroll bank transactions. All the non-payroll transactions are relatively evenly distributed between Monday and Friday.**\n",
    "\n",
    "**Therefore, we can set date as a categorical variable.**\n",
    "\n",
    "**Specificly, we set the indicator to 1 when the transaction is made on Thursday or Friday; and we set the indicator to 0 elsewhere.**"
   ]
  },
  {
   "cell_type": "code",
   "execution_count": 19,
   "metadata": {},
   "outputs": [
    {
     "data": {
      "image/png": "[encoded data removed]",
      "text/plain": [
       "<matplotlib.figure.Figure at 0x2448d7f26d8>"
      ]
     },
     "metadata": {},
     "output_type": "display_data"
    }
   ],
   "source": [
    "plt.subplot(3,1,1)\n",
    "bar_width = 0.5\n",
    "a=np.array([1,2,3,4,5,6,7])\n",
    "plt.bar(a, [df_weekday['1'],df_weekday['2'],df_weekday['3'],df_weekday['4'],df_weekday['5'],df_weekday['6'],df_weekday['7']],width=0.5,color='r')\n",
    "\n",
    "plt.xticks(a,['Mon','Tue','Wed','Thu','Fri','Sat','Sun'],fontsize=10)\n",
    "\n",
    "plt.yticks(fontsize=10)\n",
    "plt.ylabel('count',fontsize=15)\n",
    "plt.title('count of weekdays in group1',fontsize=20,color='k')\n",
    "\n",
    "plt.subplot(3,1,3)\n",
    "bar_width = 0.5\n",
    "a=np.array([1,2,3,4,5,6,7])\n",
    "plt.bar(a, [df_weekday_0['1'],df_weekday_0['2'],df_weekday_0['3'],df_weekday_0['4'],df_weekday_0['5'],df_weekday_0['6'],df_weekday_0['7']],width=0.5,color='y')\n",
    "\n",
    "plt.xticks(a,['Mon','Tue','Wed','Thu','Fri','Sat','Sun'],fontsize=10)\n",
    "\n",
    "plt.yticks(fontsize=10)\n",
    "plt.ylabel('count',fontsize=15)\n",
    "plt.title('count of weekdays in group0',fontsize=20,color='k')\n",
    "\n",
    "\n",
    "\n",
    "plt.show()"
   ]
  },
  {
   "cell_type": "code",
   "execution_count": 20,
   "metadata": {
    "collapsed": true
   },
   "outputs": [],
   "source": [
    "l1=list(map(int, l1))\n",
    "l0=list(map(int, l0))\n",
    "df_1['weekday']=l1\n",
    "df_0['weekday']=l0"
   ]
  },
  {
   "cell_type": "code",
   "execution_count": 21,
   "metadata": {
    "collapsed": true
   },
   "outputs": [],
   "source": [
    "df=pd.concat([df_0,df_1])"
   ]
  },
  {
   "cell_type": "markdown",
   "metadata": {},
   "source": [
    "# UNBALANCED DATA"
   ]
  },
  {
   "cell_type": "markdown",
   "metadata": {},
   "source": [
    "**We decide to build two logistic classifiers:**\n",
    "\n",
    "**1. A logistic classifier with features: (1) keyword including \"dir\" and \"dep\" both (or not); (2) keyword including \"payroll\" (or not); (3) keyword including \"ach\" (or not); (4) keyword including \"ppd\" (or not); (5) weekday is Thursday or Friday (or not); (6) amount is greater than 150 (or not).**\n",
    "\n",
    "**2. A logistic classifier with the same features except treating amount as continuous variable.**\n",
    "\n",
    "**However, the dataset is highly unbalanced. The classifier based on such data could be treating the true payroll as a random noise and dedicated in predicting the true 0 values instead of true 1 values.**\n",
    "\n",
    "**The approaches to handling unbalanced data are:**\n",
    "\n",
    "**1. Random Under-Sampling;**\n",
    "\n",
    "**2. Random Over-Sampling;**\n",
    "\n",
    "**3. Synthetic Minority Over-sampling; **\n",
    "\n",
    "**4. Gradient Tree Boosting ensemble method and boosting based methods.**\n",
    "\n",
    "**We decide to apply the Random Under-Sampling method:**\n",
    "\n",
    "** We separate the original data into non-payroll group (group0) and true payroll group (group1).**\n",
    "\n",
    "** We sample 40000 (comparable to the samples in group1) samples using the sampling without replacement technique from group0.**\n",
    "\n",
    "**We conbine the sampled group0 with the unchanged group1 and build the classifier.**\n",
    "\n",
    "**It certainly has pros and cons:**\n",
    "\n",
    "**Advantages:**\n",
    "\n",
    "**It can help improve run time and storage problems by reducing the number of training data samples when the training data set is huge.**\n",
    "\n",
    "**Disadvantages:**\n",
    "\n",
    "**It can discard potentially useful information which could be important for building rule classifiers.**\n",
    "\n",
    "**The sample chosen by random under sampling may be a biased sample. And it will not be an accurate representative of the population. Thereby, resulting in inaccurate results with the actual test data set.**"
   ]
  },
  {
   "cell_type": "code",
   "execution_count": 22,
   "metadata": {
    "collapsed": true
   },
   "outputs": [],
   "source": [
    "\n",
    "df_2=df.copy()\n",
    "df_2_na=df.copy()\n",
    "df_2['word1']=0\n",
    "df_2['word2']=0\n",
    "df_2['word3']=0\n",
    "df_2['word4']=0\n",
    "df_2['tf']=0\n",
    "\n",
    "df_2['word1'][df_2['desc'].str.lower().str.match(r'(.*dir.*dep.*)|(.*dep.*dir.*)')==True]=1\n",
    "df_2['word2'][df_2['desc'].str.lower().str.match(r'.*payroll.*')==True]=1\n",
    "df_2['word3'][df_2['desc'].str.lower().str.match(r'.*ach.*')==True]=1\n",
    "df_2['word4'][df_2['desc'].str.lower().str.match(r'.*ppd.*')==True]=1\n",
    "df_2['tf'][df_2['weekday'] ==4]=1\n",
    "df_2['tf'][df_2['weekday'] ==5]=1\n",
    "df_2.head(100)\n",
    "        \n",
    "df_2_na['word1']=0\n",
    "df_2_na['word2']=0\n",
    "df_2_na['word3']=0\n",
    "df_2_na['word4']=0\n",
    "df_2_na['tf']=0\n",
    "df_2_na['amount150']=0\n",
    "\n",
    "df_2_na['word1'][df_2_na['desc'].str.lower().str.match(r'(.*dir.*dep.*)|(.*dep.*dir.*)')==True]=1\n",
    "df_2_na['word2'][df_2_na['desc'].str.lower().str.match(r'.*payroll.*')==True]=1\n",
    "df_2_na['word3'][df_2_na['desc'].str.lower().str.match(r'.*ach.*')==True]=1\n",
    "df_2_na['word4'][df_2_na['desc'].str.lower().str.match(r'.*ppd.*')==True]=1\n",
    "df_2_na['tf'][df_2_na['weekday'] ==4]=1\n",
    "df_2_na['tf'][df_2_na['weekday'] ==5]=1\n",
    "df_2_na['amount150'][df_2_na['amount']>=150]=1\n"
   ]
  },
  {
   "cell_type": "code",
   "execution_count": 23,
   "metadata": {},
   "outputs": [
    {
     "data": {
      "text/plain": [
       "1155772"
      ]
     },
     "execution_count": 23,
     "metadata": {},
     "output_type": "execute_result"
    }
   ],
   "source": [
    "################Sampling#############\n",
    "df_one=df_2[df_2['payid']==1]\n",
    "df_one_na=df_2_na[df_2_na['payid']==1]\n",
    "df_zero=df_2[df_2['payid']==0]\n",
    "df_zero_na=df_2_na[df_2_na['payid']==0]\n",
    "\n",
    "len(df_zero)\n"
   ]
  },
  {
   "cell_type": "code",
   "execution_count": 24,
   "metadata": {
    "collapsed": true
   },
   "outputs": [],
   "source": [
    "indexes=np.random.randint(0,len(df_zero_na),40000)\n",
    "df_zero_na_s=df_zero_na.iloc[indexes]\n",
    "\n",
    "indexes=np.random.randint(0,len(df_zero),40000)\n",
    "df_zero_s=df_zero.iloc[indexes]"
   ]
  },
  {
   "cell_type": "code",
   "execution_count": 25,
   "metadata": {
    "collapsed": true
   },
   "outputs": [],
   "source": [
    "df_2_s=pd.concat([df_zero_s,df_one])\n",
    "df_2_na_s=pd.concat([df_zero_na_s,df_one_na])"
   ]
  },
  {
   "cell_type": "code",
   "execution_count": 26,
   "metadata": {
    "collapsed": true
   },
   "outputs": [],
   "source": [
    "features=df_2_s[['amount','word1','word2','word3','word4','tf']]\n",
    "features_na=df_2_na_s[['word1','word2','word3','word4','tf','amount150']]\n",
    "result=df_2_s['payid']\n",
    "result_na=df_2_na_s['payid']\n"
   ]
  },
  {
   "cell_type": "code",
   "execution_count": 27,
   "metadata": {
    "collapsed": true
   },
   "outputs": [],
   "source": [
    "result=result.astype('int')"
   ]
  },
  {
   "cell_type": "code",
   "execution_count": 28,
   "metadata": {
    "collapsed": true
   },
   "outputs": [],
   "source": [
    "result_na=result_na.astype('int')"
   ]
  },
  {
   "cell_type": "markdown",
   "metadata": {
    "collapsed": true
   },
   "source": [
    "# BUILD AND EVALUATE THE CLASSIFIER"
   ]
  },
  {
   "cell_type": "markdown",
   "metadata": {},
   "source": [
    "** We now have two sets of data. One has amount as categorical variable; One has amount as continuous variable.**\n",
    "\n",
    "**We now split the data into training (75%) and validating (25%) sets.We will do cross-validation later.**\n",
    "\n",
    "**We assume the penalty parameter C=10.**"
   ]
  },
  {
   "cell_type": "code",
   "execution_count": 29,
   "metadata": {
    "collapsed": true
   },
   "outputs": [],
   "source": [
    "from sklearn.linear_model import LogisticRegression\n",
    "from sklearn.ensemble import RandomForestClassifier\n",
    "from sklearn.model_selection import train_test_split\n",
    "import seaborn as sn\n",
    "import matplotlib.pyplot as plt\n",
    "from sklearn.metrics import confusion_matrix\n"
   ]
  },
  {
   "cell_type": "code",
   "execution_count": 30,
   "metadata": {
    "collapsed": true
   },
   "outputs": [],
   "source": [
    "X_train, X_test, y_train, y_test = (\n",
    "train_test_split(features.as_matrix(),\n",
    "                result.as_matrix(), test_size=0.25,\n",
    "                random_state = 1))"
   ]
  },
  {
   "cell_type": "code",
   "execution_count": 31,
   "metadata": {
    "collapsed": true
   },
   "outputs": [],
   "source": [
    "X_train_na, X_test_na, y_train_na, y_test_na = (\n",
    "train_test_split(features_na.as_matrix(),\n",
    "                result_na.as_matrix(), test_size=0.25,\n",
    "                random_state = 1))"
   ]
  },
  {
   "cell_type": "code",
   "execution_count": 32,
   "metadata": {},
   "outputs": [
    {
     "data": {
      "text/plain": [
       "LogisticRegression(C=10, class_weight=None, dual=False, fit_intercept=True,\n",
       "          intercept_scaling=1, max_iter=100, multi_class='ovr', n_jobs=1,\n",
       "          penalty='l2', random_state=None, solver='liblinear', tol=0.0001,\n",
       "          verbose=0, warm_start=False)"
      ]
     },
     "execution_count": 32,
     "metadata": {},
     "output_type": "execute_result"
    }
   ],
   "source": [
    "clf = LogisticRegression(C=10).fit(X_train,y_train)\n",
    "clf_na = LogisticRegression(C=10)\n",
    "clf_na.fit(X_train_na,y_train_na)"
   ]
  },
  {
   "cell_type": "code",
   "execution_count": 33,
   "metadata": {
    "collapsed": true
   },
   "outputs": [],
   "source": [
    "train_score = clf.score(X_train, y_train)\n",
    "train_score_na = clf_na.score(X_train_na, y_train_na)"
   ]
  },
  {
   "cell_type": "code",
   "execution_count": 34,
   "metadata": {
    "collapsed": true
   },
   "outputs": [],
   "source": [
    "test_score = clf.score(X_test, y_test)\n",
    "test_score_na = clf_na.score(X_test_na, y_test_na)"
   ]
  },
  {
   "cell_type": "code",
   "execution_count": 35,
   "metadata": {
    "collapsed": true
   },
   "outputs": [],
   "source": [
    "logit_predicted=clf.predict(X_test)\n",
    "logit_predicted_na=clf_na.predict(X_test_na)"
   ]
  },
  {
   "cell_type": "markdown",
   "metadata": {},
   "source": [
    "# Confusion Matrix\n",
    "**The confusion matrices suggest that both classfiers did a great job on the testing data. The classfier that treats amount as categorical variable might be better.** \n",
    "\n",
    "**For the classifier that treats amount as continuous variable:** \n",
    "\n",
    "**we have 8945+6139 correct predictions and 1159+2852 incorrect predictions.**"
   ]
  },
  {
   "cell_type": "code",
   "execution_count": 269,
   "metadata": {},
   "outputs": [
    {
     "data": {
      "text/plain": [
       "array([[8888, 1216],\n",
       "       [2852, 6139]], dtype=int64)"
      ]
     },
     "execution_count": 269,
     "metadata": {},
     "output_type": "execute_result"
    }
   ],
   "source": [
    "confusion = confusion_matrix(y_test,logit_predicted )\n",
    "confusion"
   ]
  },
  {
   "cell_type": "markdown",
   "metadata": {},
   "source": [
    "**For the classifier that treats amount as categorical variable:** \n",
    "\n",
    "**we have 8257+7971 correct predictions and 1847+1020 incorrect predictions.**"
   ]
  },
  {
   "cell_type": "code",
   "execution_count": 270,
   "metadata": {},
   "outputs": [
    {
     "data": {
      "text/plain": [
       "array([[8289, 1815],\n",
       "       [1020, 7971]], dtype=int64)"
      ]
     },
     "execution_count": 270,
     "metadata": {},
     "output_type": "execute_result"
    }
   ],
   "source": [
    "confusion_na = confusion_matrix(y_test_na,logit_predicted_na )\n",
    "confusion_na"
   ]
  },
  {
   "cell_type": "markdown",
   "metadata": {},
   "source": [
    "# Scores\n",
    "\n",
    "**The precision is the ratio tp / (tp + fp) where tp is the number of true positives and fp the number of false positives. The precision is intuitively the ability of the classifier to not label a sample as positive if it is negative.**\n",
    "\n",
    "**The recall is the ratio tp / (tp + fn) where tp is the number of true positives and fn the number of false negatives. The recall is intuitively the ability of the classifier to find all the positive samples.**\n",
    "\n",
    "**The F-beta score can be interpreted as a weighted harmonic mean of the precision and recall, where an F-beta score reaches its best value at 1 and worst score at 0.**\n",
    "\n",
    "**Because we are interested in classifying the true payrolls as many as possible more than classifying the non-payrolls, we are intersted in Recall more than Accuracy and Precision.** \n",
    "\n",
    "**The scores below suggest that the classifier that treats amount as categorical variable is better, although both classifiers did well.**\n",
    "\n",
    "**For the classifier that treats amount as continuous variable:**\n",
    "\n",
    "**The Accuracy is: 0.82;**\n",
    "\n",
    "**The Precision is: 0.82;**\n",
    "\n",
    "**The Recall is: 0.79;**\n",
    "\n",
    "**The F1 Score is: 0.80.**"
   ]
  },
  {
   "cell_type": "code",
   "execution_count": 36,
   "metadata": {},
   "outputs": [
    {
     "name": "stdout",
     "output_type": "stream",
     "text": [
      "Accuracy: 0.82\n",
      "Precision: 0.827618272696\n",
      "Recall: 0.791903014125\n",
      "F1:  0.809366829601\n"
     ]
    }
   ],
   "source": [
    "from sklearn.metrics import accuracy_score, precision_score, recall_score, f1_score\n",
    "# Accuracy = TP + TN / (TP + TN + FP + FN)\n",
    "# Precision = TP / (TP + FP)\n",
    "# Recall = TP / (TP + FN)  Also known as sensitivity, or True Positive Rate\n",
    "# F1 = 2 * Precision * Recall / (Precision + Recall) \n",
    "print('Accuracy: {:.2f}'.format(accuracy_score(y_test, logit_predicted)))\n",
    "print('Precision:',(precision_score(y_test, logit_predicted)))\n",
    "print('Recall:',(recall_score(y_test, logit_predicted)))\n",
    "print('F1: ',(f1_score(y_test, logit_predicted)))"
   ]
  },
  {
   "cell_type": "markdown",
   "metadata": {},
   "source": [
    "**For the classifier that treats amount as categorical variable:**\n",
    "\n",
    "**The Accuracy is: 0.85;**\n",
    "\n",
    "**The Precision is: 0.81;**\n",
    "\n",
    "**The Recall is: 0.88;**\n",
    "\n",
    "**The F1 Score is: 0.85.**"
   ]
  },
  {
   "cell_type": "code",
   "execution_count": 37,
   "metadata": {},
   "outputs": [
    {
     "name": "stdout",
     "output_type": "stream",
     "text": [
      "Accuracy: 0.85\n",
      "Precision: 0.818536785861\n",
      "Recall: 0.885997108219\n",
      "F1:  0.850932008759\n"
     ]
    }
   ],
   "source": [
    "from sklearn.metrics import accuracy_score, precision_score, recall_score, f1_score\n",
    "# Accuracy = TP + TN / (TP + TN + FP + FN)\n",
    "# Precision = TP / (TP + FP)\n",
    "# Recall = TP / (TP + FN)  Also known as sensitivity, or True Positive Rate\n",
    "# F1 = 2 * Precision * Recall / (Precision + Recall) \n",
    "print('Accuracy: {:.2f}'.format(accuracy_score(y_test_na, logit_predicted_na)))\n",
    "print('Precision:',(precision_score(y_test_na, logit_predicted_na)))\n",
    "print('Recall:',(recall_score(y_test_na, logit_predicted_na)))\n",
    "print('F1: ',(f1_score(y_test_na, logit_predicted_na)))"
   ]
  },
  {
   "cell_type": "markdown",
   "metadata": {},
   "source": [
    "# Precision-Recall Curve and ROC"
   ]
  },
  {
   "cell_type": "code",
   "execution_count": 38,
   "metadata": {},
   "outputs": [
    {
     "data": {
      "text/plain": [
       "array([ 0.0960869 ,  2.05825035,  0.68521794, ..., -3.2864945 ,\n",
       "        2.15771795,  2.15771795])"
      ]
     },
     "execution_count": 38,
     "metadata": {},
     "output_type": "execute_result"
    }
   ],
   "source": [
    "y_scores_lr = clf.decision_function(X_test)\n",
    "y_scores_lr\n",
    "y_scores_lr_na = clf_na.decision_function(X_test_na)\n",
    "y_scores_lr_na"
   ]
  },
  {
   "cell_type": "markdown",
   "metadata": {},
   "source": [
    "** The Recall-Precision Curve suggests the trade-off between Recall and Precision. It indicates that in order to achieve a certain Precision, how much Recall do we need to lose.**\n",
    "\n",
    "**For the classifier that treats amount as continuous variable, the red dot in the plot below is not close to the right top corner.\n",
    "If the Precision is required to be greater than say, 0.85, the Recall will decrease dramatically and we will lose much Recall.** "
   ]
  },
  {
   "cell_type": "code",
   "execution_count": 39,
   "metadata": {},
   "outputs": [
    {
     "data": {
      "image/png": "[encoded data removed]",
      "text/plain": [
       "<matplotlib.figure.Figure at 0x2448cf812b0>"
      ]
     },
     "metadata": {},
     "output_type": "display_data"
    }
   ],
   "source": [
    "from sklearn.metrics import precision_recall_curve\n",
    "\n",
    "precision, recall, thresholds = precision_recall_curve(y_test, y_scores_lr)\n",
    "closest_zero = np.argmin(np.abs(thresholds))\n",
    "closest_zero_p = precision[closest_zero]\n",
    "closest_zero_r = recall[closest_zero]\n",
    "\n",
    "plt.figure()\n",
    "plt.xlim([0.0, 1.01])\n",
    "plt.ylim([0.0, 1.01])\n",
    "plt.plot(precision, recall, label='Precision-Recall Curve')\n",
    "plt.plot(closest_zero_p, closest_zero_r, 'o', markersize = 12, fillstyle = 'none', c='r', mew=3)\n",
    "plt.xlabel('Precision', fontsize=16)\n",
    "plt.ylabel('Recall', fontsize=16)\n",
    "\n",
    "plt.show()"
   ]
  },
  {
   "cell_type": "markdown",
   "metadata": {},
   "source": [
    "**For the classifier that treats amount as categorical variable, the red dot in the plot below is much closer to the right top corner. If we want to achieve say, 0.85 Precision,we will not lose much Recall.** "
   ]
  },
  {
   "cell_type": "code",
   "execution_count": 40,
   "metadata": {},
   "outputs": [
    {
     "data": {
      "image/png": "[encoded data removed]",
      "text/plain": [
       "<matplotlib.figure.Figure at 0x24486102d30>"
      ]
     },
     "metadata": {},
     "output_type": "display_data"
    }
   ],
   "source": [
    "precision, recall, thresholds = precision_recall_curve(y_test_na, y_scores_lr_na)\n",
    "closest_zero = np.argmin(np.abs(thresholds))\n",
    "closest_zero_p = precision[closest_zero]\n",
    "closest_zero_r = recall[closest_zero]\n",
    "\n",
    "plt.figure()\n",
    "plt.xlim([0.0, 1.01])\n",
    "plt.ylim([0.0, 1.01])\n",
    "plt.plot(precision, recall, label='Precision-Recall Curve')\n",
    "plt.plot(closest_zero_p, closest_zero_r, 'o', markersize = 12, fillstyle = 'none', c='r', mew=3)\n",
    "plt.xlabel('Precision', fontsize=16)\n",
    "plt.ylabel('Recall', fontsize=16)\n",
    "\n",
    "plt.show()"
   ]
  },
  {
   "cell_type": "markdown",
   "metadata": {},
   "source": [
    "**The receiver operating characteristic (ROC) curve is another common tool used with binary classifiers. The dotted line represents the ROC curve of a purely random classifier; a good classifier stays as far away from that line as possible (toward the top-left corner).**\n",
    "\n",
    "**For the classifier that treats amount as continuous variable, the ROC curver is far away from baseline, suggesting the classifier is robust.**"
   ]
  },
  {
   "cell_type": "code",
   "execution_count": 41,
   "metadata": {},
   "outputs": [
    {
     "data": {
      "image/png": "[encoded data removed]",
      "text/plain": [
       "<matplotlib.figure.Figure at 0x244bbe04e10>"
      ]
     },
     "metadata": {},
     "output_type": "display_data"
    }
   ],
   "source": [
    "from sklearn.metrics import roc_curve, auc\n",
    "\n",
    "fpr_lr, tpr_lr, _ = roc_curve(y_test, y_scores_lr)\n",
    "roc_auc_lr = auc(fpr_lr, tpr_lr)\n",
    "\n",
    "plt.figure()\n",
    "plt.xlim([-0.01, 1.00])\n",
    "plt.ylim([-0.01, 1.01])\n",
    "plt.plot(fpr_lr, tpr_lr, lw=3, label='LogRegr ROC curve (area = {:0.2f})'.format(roc_auc_lr))\n",
    "plt.xlabel('False Positive Rate', fontsize=16)\n",
    "plt.ylabel('True Positive Rate', fontsize=16)\n",
    "plt.title('ROC curve (1-of-10 digits classifier)', fontsize=16)\n",
    "plt.legend(loc='lower right', fontsize=13)\n",
    "plt.plot([0, 1], [0, 1], color='navy', lw=3, linestyle='--')\n",
    "\n",
    "plt.show()"
   ]
  },
  {
   "cell_type": "markdown",
   "metadata": {},
   "source": [
    "**For the classifier that treats amount as categorical variable, the ROC curver is even far away from baseline, suggesting the classifier is more robust.**"
   ]
  },
  {
   "cell_type": "code",
   "execution_count": 42,
   "metadata": {},
   "outputs": [
    {
     "data": {
      "image/png": "[encoded data removed]",
      "text/plain": [
       "<matplotlib.figure.Figure at 0x2448cf24cc0>"
      ]
     },
     "metadata": {},
     "output_type": "display_data"
    }
   ],
   "source": [
    "fpr_lr, tpr_lr, _ = roc_curve(y_test_na, y_scores_lr_na)\n",
    "roc_auc_lr = auc(fpr_lr, tpr_lr)\n",
    "\n",
    "plt.figure()\n",
    "plt.xlim([-0.01, 1.00])\n",
    "plt.ylim([-0.01, 1.01])\n",
    "plt.plot(fpr_lr, tpr_lr, lw=3, label='LogRegr ROC curve (area = {:0.2f})'.format(roc_auc_lr))\n",
    "plt.xlabel('False Positive Rate', fontsize=16)\n",
    "plt.ylabel('True Positive Rate', fontsize=16)\n",
    "plt.title('ROC curve (1-of-10 digits classifier)', fontsize=16)\n",
    "plt.legend(loc='lower right', fontsize=13)\n",
    "plt.plot([0, 1], [0, 1], color='navy', lw=3, linestyle='--')\n",
    "\n",
    "plt.show()"
   ]
  },
  {
   "cell_type": "markdown",
   "metadata": {},
   "source": [
    "# Cross-Validation\n",
    "\n",
    "**We then conduct 5-fold Cross-Validation for both models.**\n",
    "\n",
    "**We find that both classifiers have high average scores, the classifier that treats amount as categorical variable is better, especially at achieving higher Recall.**"
   ]
  },
  {
   "cell_type": "code",
   "execution_count": 43,
   "metadata": {},
   "outputs": [
    {
     "name": "stdout",
     "output_type": "stream",
     "text": [
      "The Classifier that treats amount as continuous variable:\n",
      "Cross-validation (accuracy) [ 0.85041896  0.83706468  0.81042158  0.79725041  0.83423895]\n",
      "Cross-validation (AUC) [ 0.91047798  0.90935715  0.87954668  0.86730046  0.89665637]\n",
      "Cross-validation (recall) [ 0.8411215   0.81830676  0.75219901  0.71862543  0.80549828]\n",
      "\n",
      "The Classifier that treats amount as categorical variable:\n",
      "Cross-validation (accuracy) [ 0.87411626  0.87130139  0.83431527  0.82461538  0.85924714]\n",
      "Cross-validation (AUC) [ 0.91054474  0.91392887  0.89051156  0.87951113  0.90304316]\n",
      "Cross-validation (recall) [ 0.93609126  0.92702034  0.84565695  0.82130584  0.89745704]\n"
     ]
    }
   ],
   "source": [
    "from sklearn.model_selection import cross_val_score\n",
    "\n",
    "print('The Classifier that treats amount as continuous variable:')\n",
    "\n",
    "print('Cross-validation (accuracy)', cross_val_score(clf, features, result, cv=5))\n",
    "\n",
    "print('Cross-validation (AUC)', cross_val_score(clf, features, result, cv=5, scoring = 'roc_auc'))\n",
    "\n",
    "print('Cross-validation (recall)', cross_val_score(clf, features, result, cv=5, scoring = 'recall'))\n",
    "\n",
    "print('')\n",
    "\n",
    "print('The Classifier that treats amount as categorical variable:')\n",
    "\n",
    "print('Cross-validation (accuracy)', cross_val_score(clf_na, features_na, result_na, cv=5))\n",
    "\n",
    "print('Cross-validation (AUC)', cross_val_score(clf_na, features_na, result_na, cv=5, scoring = 'roc_auc'))\n",
    "\n",
    "print('Cross-validation (recall)', cross_val_score(clf_na, features_na, result_na, cv=5, scoring = 'recall'))"
   ]
  },
  {
   "cell_type": "markdown",
   "metadata": {},
   "source": [
    "# Grid Search \n",
    "\n",
    "**We finally apply the Grid Search method to find the optimal C parameters with different criterias.**\n",
    "\n",
    "**For the classifier that treats amount as continuous variable, the best Recall is 0.91, with the parameter 0.0001.**"
   ]
  },
  {
   "cell_type": "code",
   "execution_count": 44,
   "metadata": {},
   "outputs": [
    {
     "name": "stdout",
     "output_type": "stream",
     "text": [
      "Grid best parameter (max. recall):  {'C': 0.0001}\n",
      "Grid best score (recall):  0.916164581334\n",
      "Grid best parameter (max. accuracy):  {'C': 0.0005}\n",
      "Grid best score (accuracy):  0.847686049962\n",
      "Test set AUC:  0.892127419273\n",
      "Grid best parameter (max. AUC):  {'C': 0.001}\n",
      "Grid best score (AUC):  0.897759042599\n"
     ]
    }
   ],
   "source": [
    "from sklearn.model_selection import GridSearchCV\n",
    "from sklearn.metrics import roc_auc_score\n",
    "\n",
    "\n",
    "clf = LogisticRegression()\n",
    "grid_values = {'C': [0.0001,0.0005,0.001, 0.005,0.01,0.02,0.03,0.04, 0.05, 0.1, 1, 10, 100]}\n",
    "\n",
    "\n",
    "grid_clf_acc = GridSearchCV(clf, param_grid = grid_values, scoring='recall')\n",
    "grid_clf_acc.fit(X_train, y_train)\n",
    "y_decision_fn_scores_acc = grid_clf_acc.decision_function(X_test) \n",
    "\n",
    "print('Grid best parameter (max. recall): ', grid_clf_acc.best_params_)\n",
    "print('Grid best score (recall): ', grid_clf_acc.best_score_)\n",
    "\n",
    "\n",
    "grid_clf_acc = GridSearchCV(clf, param_grid = grid_values, scoring='accuracy')\n",
    "grid_clf_acc.fit(X_train, y_train)\n",
    "y_decision_fn_scores_acc = grid_clf_acc.decision_function(X_test) \n",
    "\n",
    "print('Grid best parameter (max. accuracy): ', grid_clf_acc.best_params_)\n",
    "print('Grid best score (accuracy): ', grid_clf_acc.best_score_)\n",
    "\n",
    "\n",
    "\n",
    "\n",
    "grid_clf_auc = GridSearchCV(clf, param_grid = grid_values, scoring = 'roc_auc')\n",
    "grid_clf_auc.fit(X_train, y_train)\n",
    "y_decision_fn_scores_auc = grid_clf_auc.decision_function(X_test) \n",
    "\n",
    "print('Test set AUC: ', roc_auc_score(y_test, y_decision_fn_scores_auc))\n",
    "print('Grid best parameter (max. AUC): ', grid_clf_auc.best_params_)\n",
    "print('Grid best score (AUC): ', grid_clf_auc.best_score_)\n"
   ]
  },
  {
   "cell_type": "markdown",
   "metadata": {},
   "source": [
    "**For the classifier that treats amount as categorical variable, the best Recall is 0.97, with the parameter 0.0001.**"
   ]
  },
  {
   "cell_type": "code",
   "execution_count": 45,
   "metadata": {},
   "outputs": [
    {
     "name": "stdout",
     "output_type": "stream",
     "text": [
      "Grid best parameter (max. recall):  {'C': 0.0001}\n",
      "Grid best score (recall):  0.965092922839\n",
      "Grid best parameter (max. accuracy):  {'C': 0.005}\n",
      "Grid best score (accuracy):  0.852940663024\n",
      "Test set AUC:  0.900659522899\n",
      "Grid best parameter (max. AUC):  {'C': 0.02}\n",
      "Grid best score (AUC):  0.899662676242\n"
     ]
    }
   ],
   "source": [
    "clf_na = LogisticRegression()\n",
    "grid_values = {'C': [0.0001,0.0005,0.001, 0.005,0.01,0.02,0.03,0.04, 0.05, 0.1, 1, 10, 100]}\n",
    "\n",
    "\n",
    "grid_clf_acc = GridSearchCV(clf_na, param_grid = grid_values, scoring='recall')\n",
    "grid_clf_acc.fit(X_train_na, y_train_na)\n",
    "y_decision_fn_scores_acc = grid_clf_acc.decision_function(X_test_na) \n",
    "\n",
    "print('Grid best parameter (max. recall): ', grid_clf_acc.best_params_)\n",
    "print('Grid best score (recall): ', grid_clf_acc.best_score_)\n",
    "\n",
    "\n",
    "grid_clf_acc = GridSearchCV(clf_na, param_grid = grid_values, scoring='accuracy')\n",
    "grid_clf_acc.fit(X_train_na, y_train_na)\n",
    "y_decision_fn_scores_acc = grid_clf_acc.decision_function(X_test_na) \n",
    "\n",
    "print('Grid best parameter (max. accuracy): ', grid_clf_acc.best_params_)\n",
    "print('Grid best score (accuracy): ', grid_clf_acc.best_score_)\n",
    "\n",
    "\n",
    "\n",
    "\n",
    "grid_clf_auc = GridSearchCV(clf_na, param_grid = grid_values, scoring = 'roc_auc')\n",
    "grid_clf_auc.fit(X_train_na, y_train_na)\n",
    "y_decision_fn_scores_auc = grid_clf_auc.decision_function(X_test_na) \n",
    "\n",
    "print('Test set AUC: ', roc_auc_score(y_test_na, y_decision_fn_scores_auc))\n",
    "print('Grid best parameter (max. AUC): ', grid_clf_auc.best_params_)\n",
    "print('Grid best score (AUC): ', grid_clf_auc.best_score_)\n"
   ]
  },
  {
   "cell_type": "markdown",
   "metadata": {},
   "source": [
    "# Get the key parameters for the built classifier\n",
    "** We use C=0.0001 in the classifier that trears amount as categorical variable and extract the parameters for building the Python package for the back-end team.**"
   ]
  },
  {
   "cell_type": "code",
   "execution_count": 281,
   "metadata": {},
   "outputs": [
    {
     "name": "stdout",
     "output_type": "stream",
     "text": [
      "[[ 0.20674986  0.22853875  0.10352173  0.08734272  0.19585867  0.50015313]]\n",
      "[-0.35247042]\n"
     ]
    }
   ],
   "source": [
    "lgr = LogisticRegression(C=0.0001)\n",
    "lgr.fit(X_train_na,y_train_na)\n",
    "lgr.coef_\n",
    "lgr.intercept_\n",
    "print(lgr.coef_)\n",
    "print(lgr.intercept_)"
   ]
  },
  {
   "cell_type": "markdown",
   "metadata": {},
   "source": [
    "# Build Python Package for the Back-End Team (See 2.C. for details)\n",
    "** We also build a Python package for the back-end team to test their bank transaction data.**"
   ]
  },
  {
   "cell_type": "markdown",
   "metadata": {
    "collapsed": true
   },
   "source": [
    "# CONCLUSION\n",
    "\n"
   ]
  },
  {
   "cell_type": "markdown",
   "metadata": {
    "collapsed": true
   },
   "source": [
    "**1. We apply the Logistic Classifier with Penalty to classify the true payroll from all bank transactions of the users who have registered at Earnin.**\n",
    "\n",
    "**2. We apply two classifiers with several features (not case sensitive):(1) keyword including \"dir\" and \"dep\" both (or not); (2) keyword including \"payroll\" (or not); (3) keyword including \"ach\" (or not); (4) keyword including \"ppd\" (or not); (5) weekday is Thursday or Friday (or not); (6) amount.**\n",
    "\n",
    "**3. The difference between two classifiers is whether we treat amount > 150 as a categorical variable or treat all amount as continuous variable.**\n",
    "\n",
    "**4. We use the Sampling Without Replacement approach to draw 40000 samples from the non-payroll samples to balance the whole dataset.**\n",
    "\n",
    "**5. We conduct the training and testing for two classifiers and compared their performance.**\n",
    "\n",
    "**6. We find that the classifier that treats amount as categorical variable is better, especially at achieving higher Recall.**\n",
    "\n",
    "**7. We apply Grid Search to find the optimal C parameter for both classifiers.**\n",
    "\n",
    "**8. The classifiers we built can be further applied to new user data for Earnin.**"
   ]
  },
  {
   "cell_type": "markdown",
   "metadata": {
    "collapsed": true
   },
   "source": [
    "# FUTURE WORKS"
   ]
  },
  {
   "cell_type": "markdown",
   "metadata": {
    "collapsed": true
   },
   "source": [
    "**1. Since we apply the Sampling Without Replacement approach to balance the data, the disadvantages are: (1) It can discard potentially useful information which could be important for building rule classifiers.(2) The sample chosen by random under sampling may be a biased sample. And it will not be an accurate representative of the population. Thereby, resulting in inaccurate results with the actual test data set.In the future, we may need to look at other alternative approaches such as bagging based (bootstrap) method and gradient boosting method. We may need to compare all the sampling-based method and ensemble-based methods to find the best method for our dataset.**\n",
    "\n",
    "**2. We may need to try different classifiers, such as Random Forest and SVM in the future to test their performance.**\n",
    "\n",
    "**3. In this study, the major goal is to build a reliable classifier that can be suitable when given a new user from different companies/employers. Therefore, we do not select the UserId or companies/employers as feature. In the future, if we want to gain the best result for finding the payrolls from our current users, we may want to build thousands of classifiers for each individual company/employer. Then we need to create a lookup table. By using the lookup table, we can find the company/employer for each individual user and apply the individual classifier.In this case, there might be more characteristics within each company/employer. For example, we can examine whether company A pays their employees every other Tuesday. We can examine whether company B has a certain name in the description of payrolls. When we have a new user, we can record the time this user has been onboard and set a time threshold to create (e.g., re-train the data) a new classifier for this user's company/employer. Those will make the individual classifier much more accurate. However, it will need much more time to build the classifier and will be much more computational intensive.   ** \n",
    "\n",
    "**4. One thing noticeable is that, in this study, we use the result from payroll_tracking.csv as the observed result. However, we may doubt that the result from that table might be inaccurate. The reason is that, the transactionId in payroll_tracking.csv is from another classifier. This classifier might not be able to provide the perfect result and some of the transactions in transaction.csv might not be plugged into payroll_tracking.csv as they should have been. This means if we were to use the records in transaction.csv as the training set, some of the transactions should have been 1 but in fact not. Future work may include manually do the evaluation for every transaction.**   "
   ]
  },
  {
   "cell_type": "markdown",
   "metadata": {
    "collapsed": true
   },
   "source": [
    "# THANKS #\n",
    "# By Sirui Wang#\n",
    "# 2/26/2018#"
   ]
  }
 ],
 "metadata": {
  "kernelspec": {
   "display_name": "Python 3",
   "language": "python",
   "name": "python3"
  },
  "language_info": {
   "codemirror_mode": {
    "name": "ipython",
    "version": 3
   },
   "file_extension": ".py",
   "mimetype": "text/x-python",
   "name": "python",
   "nbconvert_exporter": "python",
   "pygments_lexer": "ipython3",
   "version": "3.6.3"
  }
 },
 "nbformat": 4,
 "nbformat_minor": 2
}
